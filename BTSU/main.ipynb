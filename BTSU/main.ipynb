{
 "cells": [
  {
   "cell_type": "markdown",
   "metadata": {},
   "source": [
    "# Attention Enriched Deep Learning Model for Brest Tumor Segmentation in Ultrasound Images:\n",
    "This is where I put a quick description of what I'm working on\n",
    "\n",
    "Files were renamed to get rid of spaces `benign (13)_mask.png` => `benign_13_mask.png` and organized this way:\n",
    "```\n",
    "./data/Dataset_BUSI\n",
    "    /benign\n",
    "        /benign_1_mask.png\n",
    "        /benign_1.png\n",
    "        ...\n",
    "        /benign_437.png\n",
    "    /malignant\n",
    "        /\n",
    "        /\n",
    "        ...\n",
    "        /\n",
    "    /normal\n",
    "        /\n",
    "        /\n",
    "        ...\n",
    "        /\n",
    "    \n",
    "\n",
    "```\n",
    "\n",
    "Multiple mask files were also combined into single files for sake of ease, as there didn't seem to be a reason behind the seperation into multiple masks"
   ]
  }
 ],
 "metadata": {
  "kernelspec": {
   "display_name": "Python 3.10.6 64-bit",
   "language": "python",
   "name": "python3"
  },
  "language_info": {
   "name": "python",
   "version": "3.10.6"
  },
  "orig_nbformat": 4,
  "vscode": {
   "interpreter": {
    "hash": "31f2aee4e71d21fbe5cf8b01ff0e069b9275f58929596ceb00d14d90e3e16cd6"
   }
  }
 },
 "nbformat": 4,
 "nbformat_minor": 2
}
