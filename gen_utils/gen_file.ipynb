{
 "cells": [
  {
   "cell_type": "markdown",
   "metadata": {},
   "source": [
    "# Data Processing\n",
    "\n",
    "This notebook is for experimenting with the creation of a class which loads/organizes/saves images used for segmentation"
   ]
  },
  {
   "cell_type": "markdown",
   "metadata": {},
   "source": [
    "## Import List:"
   ]
  },
  {
   "cell_type": "code",
   "execution_count": 2,
   "metadata": {},
   "outputs": [],
   "source": [
    "from typing import List, Iterable, Tuple\n",
    "import numpy as np\n",
    "from PIL import Image\n",
    "import os\n",
    "import nibabel as nib\n",
    "from pathlib import Path\n",
    "import pydicom\n",
    "import cv2"
   ]
  },
  {
   "cell_type": "markdown",
   "metadata": {},
   "source": [
    "## Base Loading and Saving Images Class\n",
    "While the particulars of each segmentation problem are different, the loading/augmentation/saving\n",
    "\n",
    "Note: Look at https://github.com/MIC-DKFZ/batchgenerators for list of different types of image editing\n",
    "\n",
    "The general breakdown that I am thinking of is:\n",
    "\n",
    "1. **ImgIE** : \"Image Import Export\", this class will contain the methods for loading the images into numpy/tensors and exporting numpy/tensors back to images. This should also have methods for searching through files and storing them.\n",
    "2. **ImgAug** : \"Image Augmentation\", this class will handle any of the different image augmentations that one might think of doing for 2D and 3D images\n",
    "3. **ImgDL** : \"Image Dataloader\", this class will function to make a Pytorch DataLoader that is easy to use for training\n",
    "4. **ImgMet** : \"Image Metrics\", this class will contain methods for calculating common model performance metrics (SSIM, PSNR, Dice, etc.)\n",
    "\n",
    "So the overall use of these classes will be through wrappers around them for loading and processing for the particular problem"
   ]
  },
  {
   "cell_type": "markdown",
   "metadata": {},
   "source": [
    "Also, as an exercise/building good habits, the classes will include typing for all variables\n",
    "https://peps.python.org/pep-0484/#acceptable-type-hints"
   ]
  },
  {
   "cell_type": "markdown",
   "metadata": {},
   "source": [
    "### ImgIE"
   ]
  },
  {
   "cell_type": "code",
   "execution_count": null,
   "metadata": {},
   "outputs": [],
   "source": [
    "class ImgIE():\n",
    "    '''Class for the loading of images into numpy arrays and the saving of numpy arrays into images.\n",
    "    Also handles rudimentary processing of the images.'''\n",
    "    def __init__(self) -> None:\n",
    "        '''Test this out'''\n",
    "        pass\n",
    "\n",
    "    def load_image(self, im_path: Path, verbose: bool=False) -> np.ndarray:\n",
    "        # Given an image path, determines the function required to load the contents\n",
    "        # as a numpy array, which is returned.\n",
    "        fil_typ = os.path.splitext(im_path)[1]\n",
    "\n",
    "        if fil_typ == '.png':\n",
    "            # If file is a png\n",
    "            with Image.open(im_path) as f_im:\n",
    "                img = np.array(f_im)\n",
    "\n",
    "            if verbose:\n",
    "                print(f'Loading {im_path} as png')\n",
    "                print(f'Image shape:{img.shape}')\n",
    "\n",
    "            if self.template['unit'] == 'intensity':\n",
    "                if len(img.shape)==3:\n",
    "                    img = self.rgb2ycrbcr(img)\n",
    "                    img = img[:,:,0] #Just deal with intensity values at the moment because \n",
    "                                    # having multiple channels throws off cv2 when saving, \n",
    "                                    # since it also does BGR instead of RGB and will save a blue image\n",
    "                elif len(img.shape)==2:\n",
    "                    pass            # If the png is just greyscale, then there is nothing that can\n",
    "                                    # be done except take the single channel\n",
    "                else:\n",
    "                    raise ImportError(\"Provided png image is not 2 or 3 dimensional, something is wrong with the image.\")\n",
    "\n",
    "            elif self.template['unit'] == 'color':\n",
    "                raise NotImplementedError(\"\"\"Loading and creation of patches from color png images is\n",
    "                currently not supported. Please use template['unit']='intensity' for conversion of png\n",
    "                imges to greyscale intesity images.\"\"\")\n",
    "\n",
    "        elif fil_typ == '.nii' or fil_typ == '.gz':\n",
    "            img = nib.load(im_path).get_fdata()\n",
    "            if verbose:\n",
    "                print(f'Loading {im_path} as nii')\n",
    "                print(f'Image shape:{img.shape}')\n",
    "\n",
    "        elif fil_typ == '.dcm':\n",
    "            img = pydicom.dcmread(im_path).pixel_array\n",
    "            if verbose:\n",
    "                print(f'Loading {im_path} as dicom')\n",
    "                print(f'Image shape:{img.shape}')\n",
    "\n",
    "        else:\n",
    "            raise FileNotFoundError(f'Image file type {fil_typ} not supported.')\n",
    "\n",
    "        return img\n",
    "\n",
    "    def load_png(self, im_path: Path, unit: str='raw') -> np.ndarray:\n",
    "        '''Load png image\n",
    "        \n",
    "        Parameters\n",
    "        ----------\n",
    "        im_path : Path\n",
    "            Path to the file you wish to load.\n",
    "        \n",
    "        unit : str\n",
    "            What the unit of the given image should be. Current options are:\n",
    "            - `'raw'` : the raw RGBA values stored in the image (Default)\n",
    "            - `'lumanince'` :  the intensity channel from converting the RGB image to YCbCr.\n",
    "            This will result in the image only having one channel\n",
    "\n",
    "        Returns\n",
    "        -------\n",
    "        img : float ndarray\n",
    "            The loaded image as a numpy array\n",
    "\n",
    "        '''\n",
    "        with Image.open(im_path) as f_im:\n",
    "            if unit == 'raw':\n",
    "                return np.array(f_im)\n",
    "            if unit == 'luminance':\n",
    "                img = np.array(f_im)\n",
    "                \n",
    "                if len(img.shape) == 3:\n",
    "                    # convert to YCbCr then take first channel (luminance)\n",
    "                    return self.rgba2ycbcr(img)[:,:,0]\n",
    "                \n",
    "                elif len(img.shape) == 2:\n",
    "                    return img\n",
    "                \n",
    "                else:\n",
    "                    raise ImportError(\"Provided png image is not 2 or 3 dimensional, something is wrong with the image.\")\n",
    "        \n",
    "            # If the unit type is not supported\n",
    "            raise NotImplementedError(f'Loading of png using unit value {unit} is currently not supported.')\n",
    "\n",
    "\n",
    "    def load_jpg(self, im_path: Path, unit: str='raw') -> np.ndarray:\n",
    "        '''Load jpg image\n",
    "\n",
    "        '''\n",
    "        pass\n",
    "\n",
    "    def load_nifti(self, im_path: Path) -> np.ndarray:\n",
    "        '''Load nifti file from provided path\n",
    "\n",
    "        Parameters\n",
    "        ----------\n",
    "        im_path : Path\n",
    "            Path to the file you wish to load.\n",
    "        \n",
    "        Returns\n",
    "        -------\n",
    "        img : float ndarray\n",
    "            The loaded image as a numpy array\n",
    "        \n",
    "        '''\n",
    "        return nib.load(im_path).get_fdata()\n",
    "\n",
    "    def load_dicom(self, im_path: Path) -> np.ndarray:\n",
    "        '''Load DICOM file from provided path\n",
    "\n",
    "        Parameters\n",
    "        ----------\n",
    "        im_path : Path\n",
    "            Path to the file you wish to load.\n",
    "        \n",
    "        Returns\n",
    "        -------\n",
    "        img : float ndarray\n",
    "            The loaded image as a numpy array\n",
    "        \n",
    "        '''\n",
    "        return pydicom.dcmread(im_path).pixel_array\n",
    "\n",
    "    def rgba2ycbcr(self, img_rgba: np.ndarray) -> np.ndarray:\n",
    "        '''Takes an RBG image and returns it as a YCbCr image \n",
    "\n",
    "        Parameters:\n",
    "        ----------\n",
    "        img_rgb : ndarray\n",
    "            The RGBA image which you want to convert to YCbCr\n",
    "\n",
    "        Returns:\n",
    "        --------\n",
    "        img_ycbcr : float ndarray\n",
    "            The converted image\n",
    "\n",
    "        '''\n",
    "        if len(img_rgba.shape) != 4:\n",
    "            raise ValueError('Input image is not RGBA')\n",
    "\n",
    "        img_rgb = img_rgba.astype(np.float32)\n",
    "        \n",
    "        img_ycrcb = cv2.cvtColor(img_rgba, cv2.COLOR_RGB2YCR_CB)\n",
    "        img_ycbcr = img_ycrcb[:,:,(0,2,1)].astype(np.float32)\n",
    "        img_ycbcr[:,:,0] = (img_ycbcr[:,:,0]*(235-16)+16)/255.0\n",
    "        img_ycbcr[:,:,1:] = (img_ycbcr[:,:,1:]*(240-16)+16)/255.0\n",
    "\n",
    "        return img_ycbcr\n",
    "\n",
    "    \n",
    "    def save_image(self, fname: Path, im: np.ndarray, form: str, verbose: bool = False) -> None:\n",
    "        # Take a given image and save it as the specified format:\n",
    "        # fname = output name of the saved file\n",
    "        # im = numpy array of image\n",
    "\n",
    "        dim = im.shape #Get number of dimensions of image\n",
    "\n",
    "        if form == 'png':\n",
    "            # Check that you aren't saving a 3D image\n",
    "            #TODO: Scale inputs to [0,255] so data isn't lost/image isn't saturated\n",
    "            cv2.imwrite(f'{fname}',im)\n",
    "            if verbose:\n",
    "                print(f'Saving: {fname}')\n",
    "        elif form == 'nii':\n",
    "\n",
    "            # TODO: Add option to transpose image for some reason because mricron hates the first dim[0] = 1\n",
    "            # Still gets loaded fine in terms of loading into python, but visualizing it is bad\n",
    "            # np.transpose(im, (1,2,0))\n",
    "\n",
    "\n",
    "            # TODO: If image is 2D then append a third  dimension before saving(?)\n",
    "            nib.save(nib.Nifti1Image(im, np.eye(len(dim)+1)), fname)\n",
    "            if verbose:\n",
    "                print(f'Saving: {fname}')\n",
    "        elif form == 'dcm':\n",
    "            raise NotImplementedError('DICOM saving currently not supported')\n",
    "        else:\n",
    "            raise NotImplementedError('Specified file type is currently not supported for saving')"
   ]
  },
  {
   "cell_type": "code",
   "execution_count": 5,
   "metadata": {},
   "outputs": [
    {
     "data": {
      "text/plain": [
       "numpy.ndarray"
      ]
     },
     "execution_count": 5,
     "metadata": {},
     "output_type": "execute_result"
    }
   ],
   "source": [
    "type(np.zeros(2))"
   ]
  },
  {
   "cell_type": "markdown",
   "metadata": {},
   "source": [
    "### ImgAug"
   ]
  },
  {
   "cell_type": "code",
   "execution_count": null,
   "metadata": {},
   "outputs": [],
   "source": [
    "class ImgAug():\n",
    "    def __init__(self) -> None:\n",
    "        pass\n",
    "\n",
    "    def aug_run(self) -> None:\n",
    "        '''Run provided augmentation. Potentially save augmentation lists for repeated use'''\n",
    "        pass\n",
    "\n",
    "    def grouped_aug_run(self, img_grp: List[List[Path]]) -> None:\n",
    "        '''Run provided augmentation on several different groups of images\n",
    "        \n",
    "        '''\n",
    "        pass\n",
    "\n",
    "    def gen_random_aug(self) -> None:\n",
    "        '''Create a generator for random combinations of augmentation'''\n",
    "\n",
    "    def array_translate(self) -> None:\n",
    "        pass\n",
    "\n",
    "    def array_rotate(self) -> None:\n",
    "        pass\n",
    "\n",
    "    def gen_noise(self) -> None:\n",
    "        '''Add noise to provided image'''\n",
    "        pass\n",
    "\n",
    "    def array_scale(self) -> None:\n",
    "        '''Either upscales or downscales provided array'''\n",
    "        pass\n",
    "\n",
    "    # https://pytorch.org/docs/stable/generated/torch.nn.Upsample.html"
   ]
  },
  {
   "cell_type": "markdown",
   "metadata": {},
   "source": [
    "### ImgDL"
   ]
  },
  {
   "cell_type": "code",
   "execution_count": null,
   "metadata": {},
   "outputs": [],
   "source": [
    "class ImgDL(ImgIE, ImgAug):\n",
    "    def __init__(self) -> None:\n",
    "        pass"
   ]
  },
  {
   "cell_type": "markdown",
   "metadata": {},
   "source": [
    "### ImgMet"
   ]
  },
  {
   "cell_type": "code",
   "execution_count": null,
   "metadata": {},
   "outputs": [],
   "source": [
    "class ImgMet():\n",
    "    '''Class for containing different performance metrics'''\n",
    "    def __init__(self) -> None:\n",
    "        pass\n",
    "\n",
    "    def PSNR_calc(self) -> float:\n",
    "        pass\n",
    "\n",
    "    def SSIR_calc(self) -> float:\n",
    "        pass"
   ]
  },
  {
   "cell_type": "markdown",
   "metadata": {},
   "source": [
    "## U2Net Implementation\n",
    "This serves as a test-run for using this collection of classes on a real problemset.\n",
    "*Note: Task05 has two channels in its images*\n",
    "\n",
    "#### Outline for how to read in the unique file organization that U2Net has:\n",
    "The model requires the use of 3 different datasets, each kept in their own directory\n",
    "- Need to match both the original image and the label file together so they can be loaded at the same time\n",
    "    - Would be good to have a \"list of lists\" setup for this\n",
    "- Need to be able to select randomly from only one dataset at a time\n",
    "    - Ideally each epoch is from a different dataset"
   ]
  },
  {
   "cell_type": "code",
   "execution_count": null,
   "metadata": {},
   "outputs": [],
   "source": [
    "## Rough outline\n",
    "\n",
    "class UData(ImgIE, ImgAug):\n",
    "    '''Class for data management for U^2-Net training and testing\n",
    "    \n",
    "    Parameters\n",
    "    -------\n",
    "    - path pairs for the folders containing the raw images and the labels\n",
    "        [[/img_1, /label_1],[/img_2, /label_2]]\n",
    "    - output directory for generated images (after patches/augmentation is applied)\n",
    "\n",
    "    '''\n",
    "    def __init__(self) -> None:\n",
    "        pass\n",
    "\n",
    "    def get_files(self) -> None:\n",
    "        pass\n",
    "\n",
    "    def match_files(self) -> None:\n",
    "        pass\n",
    "\n",
    "    def run(self) -> None:\n",
    "        pass"
   ]
  },
  {
   "cell_type": "markdown",
   "metadata": {},
   "source": [
    "## SrGen recreation\n",
    "Using the defined classes above, is it possible to recreate the SrGen class?"
   ]
  },
  {
   "cell_type": "code",
   "execution_count": null,
   "metadata": {},
   "outputs": [],
   "source": []
  }
 ],
 "metadata": {
  "kernelspec": {
   "display_name": "Python 3.8.7 64-bit ('3.8.7')",
   "language": "python",
   "name": "python3"
  },
  "language_info": {
   "codemirror_mode": {
    "name": "ipython",
    "version": 3
   },
   "file_extension": ".py",
   "mimetype": "text/x-python",
   "name": "python",
   "nbconvert_exporter": "python",
   "pygments_lexer": "ipython3",
   "version": "3.8.7"
  },
  "orig_nbformat": 4,
  "vscode": {
   "interpreter": {
    "hash": "539b544e2c3fdc58492248d082a132f5e0b4fea63e914fb274c32873997cf2f6"
   }
  }
 },
 "nbformat": 4,
 "nbformat_minor": 2
}
